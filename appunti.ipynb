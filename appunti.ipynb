{
 "cells": [
  {
   "cell_type": "code",
   "execution_count": null,
   "id": "4c036892-c04a-45bc-a3c9-574969d2fa33",
   "metadata": {},
   "outputs": [],
   "source": [
    "def stampa_max(c, d):\n",
    "    if c == d:\n",
    "        print('I NUMERI SONO UGUALI')\n",
    "    elif c > d:\n",
    "        print('IL PRIMO NUMERO E\\' MAGGIORE DEL SECONDO')\n",
    "    else:\n",
    "        print('IL SECONDO NUMERO E\\' MAGGIORE DEL PRIMO')\n",
    "    return\n",
    "\n",
    "\n",
    "A = int(input('Scrivi un primo numero: '))\n",
    "B = int(input('Scrivi un secondo numero: '))\n",
    "print(stampa_max(A,B))"
   ]
  },
  {
   "cell_type": "code",
   "execution_count": null,
   "id": "502fda2a-8bb0-4a50-a901-a87446c3da80",
   "metadata": {},
   "outputs": [],
   "source": []
  }
 ],
 "metadata": {
  "kernelspec": {
   "display_name": "Python 3 (ipykernel)",
   "language": "python",
   "name": "python3"
  },
  "language_info": {
   "codemirror_mode": {
    "name": "ipython",
    "version": 3
   },
   "file_extension": ".py",
   "mimetype": "text/x-python",
   "name": "python",
   "nbconvert_exporter": "python",
   "pygments_lexer": "ipython3",
   "version": "3.12.5"
  }
 },
 "nbformat": 4,
 "nbformat_minor": 5
}
